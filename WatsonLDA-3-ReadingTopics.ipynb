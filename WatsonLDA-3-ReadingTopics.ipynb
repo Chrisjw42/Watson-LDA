{
 "cells": [
  {
   "cell_type": "code",
   "execution_count": 1,
   "metadata": {
    "collapsed": true
   },
   "outputs": [],
   "source": [
    "from gensim import corpora, models, similarities\n",
    "import logging\n",
    "import pprint\n",
    "import pandas as pd\n",
    "import time\n",
    "import numpy as np\n",
    "import matplotlib.pyplot as plt\n",
    "import datetime as dt\n",
    "%matplotlib inline\n",
    "import ast\n",
    "import random"
   ]
  },
  {
   "cell_type": "code",
   "execution_count": 2,
   "metadata": {
    "collapsed": true
   },
   "outputs": [],
   "source": [
    "dictionary = corpora.Dictionary.load(\"data/dictionary.dict\")"
   ]
  },
  {
   "cell_type": "code",
   "execution_count": 3,
   "metadata": {
    "collapsed": true
   },
   "outputs": [],
   "source": [
    "m = models.LdaModel.load(\"models/lda-10topics.model\")\n",
    "corpus = pd.read_csv(\"data/corpus_df.csv\", index_col=0)\n",
    "corpus[\"text_lem\"] = corpus[\"text_lem\"].apply(ast.literal_eval)\n",
    "corpus[\"text_vec\"] = corpus[\"text_vec\"].apply(ast.literal_eval)"
   ]
  },
  {
   "cell_type": "code",
   "execution_count": 4,
   "metadata": {},
   "outputs": [
    {
     "name": "stdout",
     "output_type": "stream",
     "text": [
      "=== 0\n",
      "\t operation 0.0137155563137\n",
      "\t reuters 0.0124741404772\n",
      "\t health 0.0110496415098\n",
      "\t capsule 0.0105978127357\n",
      "\t will 0.0102749567803\n",
      "\t english 0.0101703638113\n",
      "\t hand 0.00868012532475\n",
      "\t 2015 0.00768453513904\n",
      "\t force 0.00703824611199\n",
      "\t time 0.00687145831691\n",
      "\t integrity 0.00565995417872\n",
      "\t interesting 0.00565792821042\n",
      "\t gu 0.00537168424711\n",
      "\t hard 0.00505860540343\n",
      "\t two 0.00504130059894\n",
      "=== 1\n",
      "\t will 0.013056254959\n",
      "\t operation 0.01225257263\n",
      "\t health 0.012042747972\n",
      "\t reuters 0.0109139363064\n",
      "\t english 0.0106431642429\n",
      "\t capsule 0.00949730787853\n",
      "\t force 0.00907455261498\n",
      "\t 2015 0.00817796133654\n",
      "\t hand 0.0079367370009\n",
      "\t time 0.00689203435557\n",
      "\t integrity 0.00519428875413\n",
      "\t two 0.00504270094199\n",
      "\t interesting 0.00479931252334\n",
      "\t business 0.00433984278335\n",
      "\t hard 0.0042053278133\n",
      "=== 2\n",
      "\t health 0.01591191029\n",
      "\t operation 0.0144098738539\n",
      "\t will 0.012823269746\n",
      "\t english 0.0115322103665\n",
      "\t reuters 0.0112654359911\n",
      "\t force 0.0094144674534\n",
      "\t hand 0.00898196255557\n",
      "\t capsule 0.0071628418873\n",
      "\t 2015 0.00612346380406\n",
      "\t time 0.00610460511694\n",
      "\t interesting 0.00567791682213\n",
      "\t entire 0.00510450954315\n",
      "\t traditional 0.00488139934903\n",
      "\t integrity 0.00481281474887\n",
      "\t hard 0.00446478990002\n",
      "=== 3\n",
      "\t will 0.0141286269643\n",
      "\t reuters 0.012444003664\n",
      "\t health 0.0112686638632\n",
      "\t english 0.00961272649982\n",
      "\t force 0.00904721619303\n",
      "\t operation 0.00903143990156\n",
      "\t interesting 0.00755431243855\n",
      "\t 2015 0.00668885320755\n",
      "\t capsule 0.00662226177912\n",
      "\t two 0.00656388181132\n",
      "\t empathize 0.00561048092078\n",
      "\t hand 0.00518195071295\n",
      "\t event 0.00501220836483\n",
      "\t model 0.00498624290374\n",
      "\t many 0.00487465705834\n",
      "=== 4\n",
      "\t reuters 0.0105894736972\n",
      "\t will 0.0105173986986\n",
      "\t operation 0.0102930944599\n",
      "\t capsule 0.00952252393685\n",
      "\t force 0.00920738944957\n",
      "\t health 0.00918231226804\n",
      "\t english 0.00908247600554\n",
      "\t 2015 0.00905527982712\n",
      "\t hand 0.00833268457139\n",
      "\t interesting 0.00775660757761\n",
      "\t time 0.0057252924596\n",
      "\t gu 0.0048953235108\n",
      "\t prefix 0.00480525409341\n",
      "\t two 0.00474632022163\n",
      "\t empathize 0.00463335834508\n",
      "=== 5\n",
      "\t will 0.0146136563752\n",
      "\t operation 0.0126524961454\n",
      "\t health 0.010916556043\n",
      "\t english 0.0109078240218\n",
      "\t reuters 0.00970410004207\n",
      "\t interesting 0.00737617945531\n",
      "\t capsule 0.00723271851711\n",
      "\t force 0.00693454554137\n",
      "\t hand 0.0067534670829\n",
      "\t 2015 0.00629213732474\n",
      "\t time 0.00565021822601\n",
      "\t hard 0.00527345038076\n",
      "\t traditional 0.0051006619841\n",
      "\t entire 0.00454997989925\n",
      "\t many 0.00441837305512\n",
      "=== 6\n",
      "\t will 0.0214392567905\n",
      "\t english 0.0118960446452\n",
      "\t health 0.0112969026278\n",
      "\t operation 0.0104179571979\n",
      "\t force 0.0102860362124\n",
      "\t reuters 0.00965673424488\n",
      "\t capsule 0.00779690232505\n",
      "\t hand 0.00736245509146\n",
      "\t 2015 0.00676579615936\n",
      "\t event 0.00658494355176\n",
      "\t time 0.00559635377024\n",
      "\t interesting 0.00540937077425\n",
      "\t two 0.00530724554127\n",
      "\t entire 0.00492845149749\n",
      "\t integrity 0.00478845618756\n",
      "=== 7\n",
      "\t health 0.0147334703601\n",
      "\t will 0.0133977614723\n",
      "\t english 0.0114272780319\n",
      "\t operation 0.00954665687656\n",
      "\t reuters 0.00901510715848\n",
      "\t hand 0.00811361805049\n",
      "\t force 0.00787727729734\n",
      "\t interesting 0.00689516537623\n",
      "\t many 0.00624480064658\n",
      "\t 2015 0.00613242316667\n",
      "\t two 0.00578099712304\n",
      "\t capsule 0.00570772424604\n",
      "\t painful 0.00462861685891\n",
      "\t empathize 0.0045282357939\n",
      "\t time 0.00437892372984\n",
      "=== 8\n",
      "\t will 0.0202971128443\n",
      "\t reuters 0.0139031411009\n",
      "\t operation 0.0138452101566\n",
      "\t health 0.0119083448373\n",
      "\t force 0.0107176016572\n",
      "\t time 0.00918663127434\n",
      "\t hand 0.00788053033559\n",
      "\t english 0.00745875511563\n",
      "\t capsule 0.00654811534808\n",
      "\t event 0.00604391293705\n",
      "\t two 0.00527838054713\n",
      "\t interesting 0.00517951852186\n",
      "\t 2015 0.00486132496125\n",
      "\t gu 0.00447923505267\n",
      "\t contain 0.00436141386485\n",
      "=== 9\n",
      "\t reuters 0.0133864385762\n",
      "\t operation 0.0123595205955\n",
      "\t health 0.0118379040419\n",
      "\t will 0.010174594675\n",
      "\t force 0.0096902590004\n",
      "\t english 0.00936126188577\n",
      "\t time 0.00831309461366\n",
      "\t 2015 0.00760262876783\n",
      "\t hand 0.00679279017379\n",
      "\t many 0.00650101845704\n",
      "\t capsule 0.00649122919171\n",
      "\t two 0.00503820441691\n",
      "\t underactive 0.00480208473781\n",
      "\t valid 0.00472337427844\n",
      "\t prefix 0.00460992274272\n"
     ]
    }
   ],
   "source": [
    "for i in range(10):\n",
    "    print(\"===\",i)\n",
    "    top = m.get_topic_terms(topicid=i, topn=15)\n",
    "    for word in top:\n",
    "        print(\"\\t\",dictionary.get(word[0]), word[1])"
   ]
  },
  {
   "cell_type": "code",
   "execution_count": 5,
   "metadata": {
    "collapsed": true
   },
   "outputs": [],
   "source": [
    "def applyTopicScores(corpus, trainedModel):\n",
    "    \"\"\"\n",
    "    For a given corpus (that has already been vectorised), create x columns, where ach column is\n",
    "    the score for a given topic. \n",
    "    \"\"\"\n",
    "    for i in corpus.index:\n",
    "        try:\n",
    "            scores = trainedModel.get_document_topics(corpus.iloc[i][\"text_vec\"])\n",
    "            for topic in scores:\n",
    "                corpus.at[i, \"topic_{}_score\".format(topic[0])] = topic[1]\n",
    "        except:\n",
    "            corpus.drop(i, inplace=True)\n",
    "            \n",
    "    return corpus"
   ]
  },
  {
   "cell_type": "code",
   "execution_count": 6,
   "metadata": {
    "collapsed": true
   },
   "outputs": [],
   "source": [
    "def getTopicRankings(scoredCorpus):\n",
    "    \"\"\"\n",
    "    For a given SCORED corpus, rank the individual topics by popularity.\n",
    "    \"\"\"\n",
    "    topicCols = [x for x in scoredCorpus if \"topic_\" in x]\n",
    "    print(\"aggregating and ranking {} topic's scores\".format(len(topicCols)))\n",
    "    topicScores = []\n",
    "    if len(topicCols) == 0:\n",
    "        print(\"NO TOPIC SCORES\")\n",
    "        return\n",
    "    for col in topicCols:\n",
    "        topicScores.append([col[:-6], np.mean(scoredCorpus[col]), int(col[6:-6])])\n",
    "        \n",
    "    topicScores.sort(key=lambda x: x[1], reverse=True)\n",
    "    return topicScores"
   ]
  },
  {
   "cell_type": "code",
   "execution_count": 7,
   "metadata": {
    "scrolled": true
   },
   "outputs": [],
   "source": [
    "def getTopNWords(n, topicNum, model, dictionary):\n",
    "    \"\"\"\n",
    "    Get the top N words from a given topic.\n",
    "    Returns a list of n * [word, score]\n",
    "    \"\"\"\n",
    "    top = model.get_topic_terms(topicid=topicNum, topn=n)\n",
    "    newTop = []\n",
    "    for i in top:\n",
    "        # Convert to list so we can overwrite\n",
    "        iList = list(i)\n",
    "        iList[0] = dictionary.get(iList[0])\n",
    "        newTop.append(iList)\n",
    "    return newTop"
   ]
  },
  {
   "cell_type": "code",
   "execution_count": 8,
   "metadata": {
    "collapsed": true
   },
   "outputs": [],
   "source": [
    "def getTopicWords(model, scoredCorpus, dictionary, topNTopics):\n",
    "    topicRankings = getTopicRankings(scoredCorpus)\n",
    "    \n",
    "    topicWords = []\n",
    "    for i in range(topNTopics):\n",
    "        # Get the number of the topic\n",
    "        topicN = int(topicRankings[i][0].split(\"_\")[1])\n",
    "        \n",
    "        # Get the top words from that topic\n",
    "        thisTopicWords = getTopNWords(10, topicN, model, dictionary)\n",
    "        \n",
    "        # currently just take the top 10 words\n",
    "        topicWords.append([topicRankings[i][0], [x for x in thisTopicWords]])\n",
    "    return topicWords\n",
    "    "
   ]
  },
  {
   "cell_type": "code",
   "execution_count": 9,
   "metadata": {},
   "outputs": [
    {
     "name": "stdout",
     "output_type": "stream",
     "text": [
      "aggregating and ranking 10 topic's scores\n",
      "['topic_1', [['will', 0.013056254958961426], ['operation', 0.012252572629984864], ['health', 0.012042747971959178], ['reuters', 0.010913936306424905], ['english', 0.010643164242861249], ['capsule', 0.0094973078785310899], ['force', 0.0090745526149765519], ['2015', 0.0081779613365434833], ['hand', 0.0079367370008951079], ['time', 0.0068920343555680186]]]\n",
      "['topic_9', [['reuters', 0.013386438576220053], ['operation', 0.012359520595505087], ['health', 0.011837904041888845], ['will', 0.01017459467495801], ['force', 0.0096902590003971906], ['english', 0.0093612618857668809], ['time', 0.0083130946136589553], ['2015', 0.0076026287678315208], ['hand', 0.0067927901737888756], ['many', 0.0065010184570367382]]]\n",
      "['topic_3', [['will', 0.014128626964332902], ['reuters', 0.012444003664009119], ['health', 0.011268663863194838], ['english', 0.0096127264998166727], ['force', 0.0090472161930346597], ['operation', 0.0090314399015617199], ['interesting', 0.0075543124385460438], ['2015', 0.0066888532075546486], ['capsule', 0.0066222617791186662], ['two', 0.006563881811321795]]]\n"
     ]
    }
   ],
   "source": [
    "def getPopularTopicWords(corpus, model, dictionary, alpha=1):\n",
    "    \n",
    "    # Apply the topic scores from the trained model\n",
    "    scoredCorpus = applyTopicScores(corpus, model)\n",
    "\n",
    "    topicWords = getTopicWords(m, scoredCorpus, dictionary, 3)\n",
    "    \n",
    "    for i in topicWords:\n",
    "        print(i)\n",
    "    \n",
    "getPopularTopicWords(corpus, m, dictionary)"
   ]
  },
  {
   "cell_type": "code",
   "execution_count": 136,
   "metadata": {},
   "outputs": [
    {
     "name": "stdout",
     "output_type": "stream",
     "text": [
      "aggregating and ranking 10 topic's scores\n"
     ]
    }
   ],
   "source": [
    "topicWords = getTopicWords(m, scoredCorpus, dictionary, 3)"
   ]
  },
  {
   "cell_type": "code",
   "execution_count": 240,
   "metadata": {},
   "outputs": [
    {
     "name": "stdout",
     "output_type": "stream",
     "text": [
      "[['that', 1473], ['you', 1339], ['have', 1142], ['your', 954], ['with', 901], ['can', 811], ['on', 787], ['from', 689], ['we', 624], ['this', 613]]\n",
      "[['your', 1371], ['with', 1247], ['that', 1104], ['or', 1059], ['you', 1027], ['have', 1017], ['can', 868], ['this', 768], ['on', 703], ['i', 687]]\n",
      "[['you', 1461], ['your', 1265], ['that', 1091], ['have', 1090], ['with', 970], ['from', 737], ['or', 723], ['on', 693], ['can', 675], ['this', 629]]\n"
     ]
    },
    {
     "data": {
      "image/png": "[encoded data removed]",
      "text/plain": [
       "<Figure size 432x288 with 1 Axes>"
      ]
     },
     "metadata": {},
     "output_type": "display_data"
    }
   ],
   "source": [
    "def getWordCloudFromTopicWords(topicWords):\n",
    "    date = dt.datetime.now()\n",
    "    dateString = \"{}-{}-{}\".format(date.day, date.month, date.year)\n",
    "    \n",
    "    for top in range(len(topicWords)):\n",
    "        topicName = topicWords[top][0]\n",
    "        scaled = topicWords[top][1]\n",
    "\n",
    "        # Scale the probabilites to a large enough int (simulate a frequency)\n",
    "        scaled = [[x[0], int(x[1]*100000)] for x in scaled]\n",
    "\n",
    "        # Store all the mock frequencies in a dict\n",
    "        freqDict = {}\n",
    "        for w in scaled:\n",
    "            freqDict[w[0]] = w[1]\n",
    "\n",
    "        wc = wordcloud.wordcloud.WordCloud(stopwords = set([\"it\"])) # placeholder stopword list\n",
    "        wc.generate_from_frequencies(freqDict)\n",
    "        \n",
    "        wc.to_file(\"wordclouds/{}_{}.jpg\".format(topicName, dateString))"
   ]
  },
  {
   "cell_type": "code",
   "execution_count": 239,
   "metadata": {},
   "outputs": [
    {
     "name": "stdout",
     "output_type": "stream",
     "text": [
      "total 48\r\n",
      "-rw-rw-r-- 1 rebootaihk rebootaihk 12608 Aug 14 05:32 topic_0_14-8-2018.jpg\r\n",
      "-rw-rw-r-- 1 rebootaihk rebootaihk 13022 Aug 14 05:32 topic_5_14-8-2018.jpg\r\n",
      "-rw-rw-r-- 1 rebootaihk rebootaihk 13143 Aug 14 05:32 topic_7_14-8-2018.jpg\r\n"
     ]
    }
   ],
   "source": [
    "!ls -l wordclouds"
   ]
  },
  {
   "cell_type": "code",
   "execution_count": 199,
   "metadata": {},
   "outputs": [
    {
     "data": {
      "text/plain": [
       "'hello '"
      ]
     },
     "execution_count": 199,
     "metadata": {},
     "output_type": "execute_result"
    }
   ],
   "source": [
    "\"hello \"*10"
   ]
  },
  {
   "cell_type": "code",
   "execution_count": null,
   "metadata": {
    "collapsed": true
   },
   "outputs": [],
   "source": []
  },
  {
   "cell_type": "code",
   "execution_count": 152,
   "metadata": {
    "collapsed": true
   },
   "outputs": [],
   "source": []
  },
  {
   "cell_type": "code",
   "execution_count": 153,
   "metadata": {},
   "outputs": [
    {
     "data": {
      "text/plain": [
       "<matplotlib.image.AxesImage at 0x7fdd0340a470>"
      ]
     },
     "execution_count": 153,
     "metadata": {},
     "output_type": "execute_result"
    },
    {
     "data": {
      "image/png": "[encoded data removed]",
      "text/plain": [
       "<Figure size 432x288 with 1 Axes>"
      ]
     },
     "metadata": {},
     "output_type": "display_data"
    }
   ],
   "source": [
    "a = wordcloud.wordcloud.WordCloud()\n",
    "\n",
    "a.generate(\"hello my name is chris\")\n",
    "\n",
    "a.to_file(\"test.jpg\")\n",
    "\n",
    "plt.imshow(a)\n"
   ]
  },
  {
   "cell_type": "code",
   "execution_count": 144,
   "metadata": {
    "collapsed": true
   },
   "outputs": [],
   "source": [
    "import wordcloud"
   ]
  },
  {
   "cell_type": "code",
   "execution_count": 128,
   "metadata": {},
   "outputs": [
    {
     "data": {
      "text/plain": [
       "{'a',\n",
       " 'about',\n",
       " 'above',\n",
       " 'after',\n",
       " 'again',\n",
       " 'against',\n",
       " 'all',\n",
       " 'also',\n",
       " 'am',\n",
       " 'an',\n",
       " 'and',\n",
       " 'any',\n",
       " 'are',\n",
       " \"aren't\",\n",
       " 'as',\n",
       " 'at',\n",
       " 'be',\n",
       " 'because',\n",
       " 'been',\n",
       " 'before',\n",
       " 'being',\n",
       " 'below',\n",
       " 'between',\n",
       " 'both',\n",
       " 'but',\n",
       " 'by',\n",
       " 'can',\n",
       " \"can't\",\n",
       " 'cannot',\n",
       " 'com',\n",
       " 'could',\n",
       " \"couldn't\",\n",
       " 'did',\n",
       " \"didn't\",\n",
       " 'do',\n",
       " 'does',\n",
       " \"doesn't\",\n",
       " 'doing',\n",
       " \"don't\",\n",
       " 'down',\n",
       " 'during',\n",
       " 'each',\n",
       " 'else',\n",
       " 'ever',\n",
       " 'few',\n",
       " 'for',\n",
       " 'from',\n",
       " 'further',\n",
       " 'get',\n",
       " 'had',\n",
       " \"hadn't\",\n",
       " 'has',\n",
       " \"hasn't\",\n",
       " 'have',\n",
       " \"haven't\",\n",
       " 'having',\n",
       " 'he',\n",
       " \"he'd\",\n",
       " \"he'll\",\n",
       " \"he's\",\n",
       " 'her',\n",
       " 'here',\n",
       " \"here's\",\n",
       " 'hers',\n",
       " 'herself',\n",
       " 'him',\n",
       " 'himself',\n",
       " 'his',\n",
       " 'how',\n",
       " \"how's\",\n",
       " 'however',\n",
       " 'http',\n",
       " 'i',\n",
       " \"i'd\",\n",
       " \"i'll\",\n",
       " \"i'm\",\n",
       " \"i've\",\n",
       " 'if',\n",
       " 'in',\n",
       " 'into',\n",
       " 'is',\n",
       " \"isn't\",\n",
       " 'it',\n",
       " \"it's\",\n",
       " 'its',\n",
       " 'itself',\n",
       " 'just',\n",
       " 'k',\n",
       " \"let's\",\n",
       " 'like',\n",
       " 'me',\n",
       " 'more',\n",
       " 'most',\n",
       " \"mustn't\",\n",
       " 'my',\n",
       " 'myself',\n",
       " 'no',\n",
       " 'nor',\n",
       " 'not',\n",
       " 'of',\n",
       " 'off',\n",
       " 'on',\n",
       " 'once',\n",
       " 'only',\n",
       " 'or',\n",
       " 'other',\n",
       " 'otherwise',\n",
       " 'ought',\n",
       " 'our',\n",
       " 'ours',\n",
       " 'ourselves',\n",
       " 'out',\n",
       " 'over',\n",
       " 'own',\n",
       " 'r',\n",
       " 'same',\n",
       " 'shall',\n",
       " \"shan't\",\n",
       " 'she',\n",
       " \"she'd\",\n",
       " \"she'll\",\n",
       " \"she's\",\n",
       " 'should',\n",
       " \"shouldn't\",\n",
       " 'since',\n",
       " 'so',\n",
       " 'some',\n",
       " 'such',\n",
       " 'than',\n",
       " 'that',\n",
       " \"that's\",\n",
       " 'the',\n",
       " 'their',\n",
       " 'theirs',\n",
       " 'them',\n",
       " 'themselves',\n",
       " 'then',\n",
       " 'there',\n",
       " \"there's\",\n",
       " 'these',\n",
       " 'they',\n",
       " \"they'd\",\n",
       " \"they'll\",\n",
       " \"they're\",\n",
       " \"they've\",\n",
       " 'this',\n",
       " 'those',\n",
       " 'through',\n",
       " 'to',\n",
       " 'too',\n",
       " 'under',\n",
       " 'until',\n",
       " 'up',\n",
       " 'very',\n",
       " 'was',\n",
       " \"wasn't\",\n",
       " 'we',\n",
       " \"we'd\",\n",
       " \"we'll\",\n",
       " \"we're\",\n",
       " \"we've\",\n",
       " 'were',\n",
       " \"weren't\",\n",
       " 'what',\n",
       " \"what's\",\n",
       " 'when',\n",
       " \"when's\",\n",
       " 'where',\n",
       " \"where's\",\n",
       " 'which',\n",
       " 'while',\n",
       " 'who',\n",
       " \"who's\",\n",
       " 'whom',\n",
       " 'why',\n",
       " \"why's\",\n",
       " 'with',\n",
       " \"won't\",\n",
       " 'would',\n",
       " \"wouldn't\",\n",
       " 'www',\n",
       " 'you',\n",
       " \"you'd\",\n",
       " \"you'll\",\n",
       " \"you're\",\n",
       " \"you've\",\n",
       " 'your',\n",
       " 'yours',\n",
       " 'yourself',\n",
       " 'yourselves'}"
      ]
     },
     "execution_count": 128,
     "metadata": {},
     "output_type": "execute_result"
    }
   ],
   "source": [
    "wordcloud.wordcloud."
   ]
  }
 ],
 "metadata": {
  "kernelspec": {
   "display_name": "Python 3",
   "language": "python",
   "name": "python3"
  },
  "language_info": {
   "codemirror_mode": {
    "name": "ipython",
    "version": 3
   },
   "file_extension": ".py",
   "mimetype": "text/x-python",
   "name": "python",
   "nbconvert_exporter": "python",
   "pygments_lexer": "ipython3",
   "version": "3.6.2"
  }
 },
 "nbformat": 4,
 "nbformat_minor": 2
}
