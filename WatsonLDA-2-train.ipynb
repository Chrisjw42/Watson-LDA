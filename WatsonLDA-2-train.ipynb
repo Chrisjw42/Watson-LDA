{
 "cells": [
  {
   "cell_type": "code",
   "execution_count": 1,
   "metadata": {
    "collapsed": true
   },
   "outputs": [],
   "source": [
    "from gensim import corpora, models, similarities\n",
    "import logging\n",
    "import pprint\n",
    "import pandas as pd\n",
    "import time\n",
    "import numpy as np\n",
    "%matplotlib inline\n",
    "import random"
   ]
  },
  {
   "cell_type": "code",
   "execution_count": 2,
   "metadata": {
    "collapsed": true
   },
   "outputs": [],
   "source": [
    "dictionary = corpora.Dictionary.load(\"data/dictionary.dict\")\n",
    "corpus = corpora.MmCorpus(\"data/corpus.mm\")"
   ]
  },
  {
   "cell_type": "code",
   "execution_count": 3,
   "metadata": {
    "scrolled": true
   },
   "outputs": [
    {
     "name": "stdout",
     "output_type": "stream",
     "text": [
      "MmCorpus(2607 documents, 13515 features, 525999 non-zero entries)\n",
      "Dictionary(13515 unique tokens: ['official', 'name', 'codonopsis', 'radix', 'english']...)\n"
     ]
    }
   ],
   "source": [
    "print(corpus)\n",
    "print(dictionary)"
   ]
  },
  {
   "cell_type": "markdown",
   "metadata": {},
   "source": [
    "# LDA - Latent Dirichlet Allocation\n"
   ]
  },
  {
   "cell_type": "code",
   "execution_count": null,
   "metadata": {},
   "outputs": [
    {
     "name": "stdout",
     "output_type": "stream",
     "text": [
      "Beginning  100\n",
      "time.struct_time(tm_year=2018, tm_mon=8, tm_mday=14, tm_hour=6, tm_min=13, tm_sec=40, tm_wday=1, tm_yday=226, tm_isdst=0)\n"
     ]
    }
   ],
   "source": [
    "%%time\n",
    "#passes (epochs): Number of passes through the entire corpus\n",
    "#chunksize: Number of documents to load into memory at a time and process E step of EM.\n",
    "#update_every: number of chunks to process prior to moving onto the M step of EM.\n",
    "numTopics = 100\n",
    "\n",
    "k = [100, 200, 50]\n",
    "modelResults = []\n",
    "\n",
    "for numTopics in k:\n",
    "    print(\"Beginning \", numTopics)\n",
    "    print(time.localtime())\n",
    "    m = models.LdaMulticore(eval_every=100, corpus=corpus, id2word=dictionary, \n",
    "                        num_topics=numTopics, iterations=1000, passes=2000, workers=3)\n",
    "    modelResults.append(m)\n",
    "    print(numTopics, \" complete\")\n",
    "    print(time.localtime())\n",
    "\n",
    "for m in range(len(modelResults)):\n",
    "    modelResults[m].save(\"models/lda-{}topics.model\".format(k[m]))"
   ]
  },
  {
   "cell_type": "code",
   "execution_count": null,
   "metadata": {
    "collapsed": true
   },
   "outputs": [],
   "source": []
  }
 ],
 "metadata": {
  "kernelspec": {
   "display_name": "Python 3",
   "language": "python",
   "name": "python3"
  },
  "language_info": {
   "codemirror_mode": {
    "name": "ipython",
    "version": 3
   },
   "file_extension": ".py",
   "mimetype": "text/x-python",
   "name": "python",
   "nbconvert_exporter": "python",
   "pygments_lexer": "ipython3",
   "version": "3.6.2"
  }
 },
 "nbformat": 4,
 "nbformat_minor": 1
}
